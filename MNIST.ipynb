{
  "nbformat": 4,
  "nbformat_minor": 0,
  "metadata": {
    "colab": {
      "name": "MNIST.ipynb",
      "provenance": [],
      "authorship_tag": "ABX9TyO5azzk+nTTEIsqN0Y8Op6G",
      "include_colab_link": true
    },
    "kernelspec": {
      "name": "python3",
      "display_name": "Python 3"
    },
    "language_info": {
      "name": "python"
    }
  },
  "cells": [
    {
      "cell_type": "markdown",
      "metadata": {
        "id": "view-in-github",
        "colab_type": "text"
      },
      "source": [
        "<a href=\"https://colab.research.google.com/github/GautierBlandin/sklearn-classification/blob/main/MNIST.ipynb\" target=\"_parent\"><img src=\"https://colab.research.google.com/assets/colab-badge.svg\" alt=\"Open In Colab\"/></a>"
      ]
    },
    {
      "cell_type": "code",
      "execution_count": 1,
      "metadata": {
        "id": "5rHqsmQyjelX"
      },
      "outputs": [],
      "source": [
        "from sklearn.datasets import fetch_openml\n",
        "\n",
        "mnist = fetch_openml('mnist_784', version = 1)"
      ]
    },
    {
      "cell_type": "code",
      "source": [
        "type(mnist)"
      ],
      "metadata": {
        "colab": {
          "base_uri": "https://localhost:8080/"
        },
        "id": "RSHJpagej2xj",
        "outputId": "a85935a7-4ef9-4a99-f77e-75d0a53afcdc"
      },
      "execution_count": 3,
      "outputs": [
        {
          "output_type": "execute_result",
          "data": {
            "text/plain": [
              "sklearn.utils.Bunch"
            ]
          },
          "metadata": {},
          "execution_count": 3
        }
      ]
    },
    {
      "cell_type": "code",
      "source": [
        "mnist_data = mnist[\"data\"].iloc[:60000]\n",
        "mnist_labels = mnist[\"target\"].iloc[:60000]"
      ],
      "metadata": {
        "id": "mQ53kAObj65n"
      },
      "execution_count": 11,
      "outputs": []
    },
    {
      "cell_type": "code",
      "source": [
        "mnist_data.info()"
      ],
      "metadata": {
        "colab": {
          "base_uri": "https://localhost:8080/"
        },
        "id": "WruThgAskRwC",
        "outputId": "a9d50113-eb0b-4fb4-a84b-0c7e36965fde"
      },
      "execution_count": 13,
      "outputs": [
        {
          "output_type": "stream",
          "name": "stdout",
          "text": [
            "<class 'pandas.core.frame.DataFrame'>\n",
            "RangeIndex: 60000 entries, 0 to 59999\n",
            "Columns: 784 entries, pixel1 to pixel784\n",
            "dtypes: float64(784)\n",
            "memory usage: 358.9 MB\n"
          ]
        }
      ]
    },
    {
      "cell_type": "code",
      "source": [
        "type(mnist_labels)"
      ],
      "metadata": {
        "colab": {
          "base_uri": "https://localhost:8080/"
        },
        "id": "cXMQZz9ekXIU",
        "outputId": "7892e7f0-6973-461e-8b7e-aa1693876a5f"
      },
      "execution_count": 10,
      "outputs": [
        {
          "output_type": "execute_result",
          "data": {
            "text/plain": [
              "pandas.core.series.Series"
            ]
          },
          "metadata": {},
          "execution_count": 10
        }
      ]
    },
    {
      "cell_type": "code",
      "source": [
        "from sklearn.model_selection import cross_val_predict\n",
        "from sklearn.neighbors import KNeighborsClassifier\n",
        "\n",
        "kneigh_class = KNeighborsClassifier()\n",
        "\n",
        "predictions = cross_val_predict(kneigh_class, mnist_data, mnist_labels, cv = 3)"
      ],
      "metadata": {
        "id": "s2n6i5bfkpxY"
      },
      "execution_count": 15,
      "outputs": []
    },
    {
      "cell_type": "code",
      "source": [
        "from sklearn.metrics import confusion_matrix\n",
        "\n",
        "conf_mat = confusion_matrix(mnist_labels, predictions)"
      ],
      "metadata": {
        "id": "ZbSTVTRRnquI"
      },
      "execution_count": 16,
      "outputs": []
    },
    {
      "cell_type": "code",
      "source": [
        "conf_mat"
      ],
      "metadata": {
        "colab": {
          "base_uri": "https://localhost:8080/"
        },
        "id": "Q_Uw0DyPn7UF",
        "outputId": "4ef2d9b9-dd0a-460a-9b53-1499ad5857fa"
      },
      "execution_count": 20,
      "outputs": [
        {
          "output_type": "execute_result",
          "data": {
            "text/plain": [
              "array([[5882,    4,    5,    0,    1,    5,   19,    1,    2,    4],\n",
              "       [   2, 6705,   10,    2,    1,    1,    3,   11,    2,    5],\n",
              "       [  51,   60, 5695,   15,   11,    4,    9,   87,   17,    9],\n",
              "       [   8,   16,   39, 5903,    1,   63,    4,   40,   33,   24],\n",
              "       [   3,   53,    1,    1, 5628,    0,   13,   11,    2,  130],\n",
              "       [  14,   18,    4,   67,    6, 5211,   58,    7,   11,   25],\n",
              "       [  24,   13,    1,    0,    5,   27, 5846,    0,    2,    0],\n",
              "       [   4,   68,   14,    3,   20,    1,    0, 6083,    3,   69],\n",
              "       [  25,   85,   15,   87,   35,  111,   26,   19, 5382,   66],\n",
              "       [  19,   13,    5,   45,   46,   12,    5,   79,   15, 5710]])"
            ]
          },
          "metadata": {},
          "execution_count": 20
        }
      ]
    },
    {
      "cell_type": "code",
      "source": [
        "conf_mat.trace()/conf_mat.sum()"
      ],
      "metadata": {
        "colab": {
          "base_uri": "https://localhost:8080/"
        },
        "id": "rUsTfTJnovln",
        "outputId": "08b1b585-1ffe-4960-900f-33109e15e002"
      },
      "execution_count": 18,
      "outputs": [
        {
          "output_type": "execute_result",
          "data": {
            "text/plain": [
              "0.9674166666666667"
            ]
          },
          "metadata": {},
          "execution_count": 18
        }
      ]
    }
  ]
}